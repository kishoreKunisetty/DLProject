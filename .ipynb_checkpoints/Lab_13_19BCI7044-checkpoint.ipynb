{
 "cells": [
  {
   "cell_type": "markdown",
   "metadata": {
    "id": "nrJg1hCC0eb9"
   },
   "source": [
    "#Lab - 13\n",
    "\n",
    "\n",
    "\n",
    "\n",
    "\n",
    "#MUNAGALA SUSANK\n",
    "#19BCI7044\n",
    "\n"
   ]
  },
  {
   "cell_type": "markdown",
   "metadata": {
    "id": "JItNys5v0ecF"
   },
   "source": [
    "## Loading the Data\n",
    "\n",
    "\n"
   ]
  },
  {
   "cell_type": "code",
   "execution_count": 1,
   "metadata": {
    "id": "7OXOAC8_0ecH"
   },
   "outputs": [],
   "source": [
    "import pickle\n",
    "import numpy as np"
   ]
  },
  {
   "cell_type": "code",
   "execution_count": 2,
   "metadata": {
    "id": "vd3QCmqu0ecL"
   },
   "outputs": [],
   "source": [
    "with open(\"train_qa.txt\", \"rb\") as fp:   # Unpickling, read-binary\n",
    "    train_data =  pickle.load(fp)"
   ]
  },
  {
   "cell_type": "code",
   "execution_count": 3,
   "metadata": {
    "id": "jX1NjlJn0ecM"
   },
   "outputs": [],
   "source": [
    "with open(\"test_qa.txt\", \"rb\") as fp:   # Unpickling\n",
    "    test_data =  pickle.load(fp)"
   ]
  },
  {
   "cell_type": "markdown",
   "metadata": {
    "id": "x5CtHDHj0ecN"
   },
   "source": [
    "----"
   ]
  },
  {
   "cell_type": "markdown",
   "metadata": {
    "id": "sVu2btDg0ecO"
   },
   "source": [
    "## Exploring the Format of the Data"
   ]
  },
  {
   "cell_type": "code",
   "execution_count": 4,
   "metadata": {
    "colab": {
     "base_uri": "https://localhost:8080/"
    },
    "id": "NM-XVD6F0ecQ",
    "outputId": "cf08228f-db4c-4db7-dc48-7ebf313711ae"
   },
   "outputs": [
    {
     "data": {
      "text/plain": [
       "list"
      ]
     },
     "execution_count": 4,
     "metadata": {},
     "output_type": "execute_result"
    }
   ],
   "source": [
    "type(test_data)"
   ]
  },
  {
   "cell_type": "code",
   "execution_count": 5,
   "metadata": {
    "colab": {
     "base_uri": "https://localhost:8080/"
    },
    "id": "uBidYxpY0ecT",
    "outputId": "b73d36ef-4b12-4a47-bd44-2231167f3365"
   },
   "outputs": [
    {
     "data": {
      "text/plain": [
       "list"
      ]
     },
     "execution_count": 5,
     "metadata": {},
     "output_type": "execute_result"
    }
   ],
   "source": [
    "type(train_data)"
   ]
  },
  {
   "cell_type": "code",
   "execution_count": 6,
   "metadata": {
    "colab": {
     "base_uri": "https://localhost:8080/"
    },
    "id": "hZpRQErV0ecW",
    "outputId": "a1b0f075-1dc6-4095-942a-e0a107201ab1"
   },
   "outputs": [
    {
     "data": {
      "text/plain": [
       "1000"
      ]
     },
     "execution_count": 6,
     "metadata": {},
     "output_type": "execute_result"
    }
   ],
   "source": [
    "len(test_data)"
   ]
  },
  {
   "cell_type": "code",
   "execution_count": 7,
   "metadata": {
    "colab": {
     "base_uri": "https://localhost:8080/"
    },
    "id": "qS46HrvJ0ecX",
    "outputId": "1b62c843-2080-47ad-b74c-d4dda718ff50"
   },
   "outputs": [
    {
     "data": {
      "text/plain": [
       "10000"
      ]
     },
     "execution_count": 7,
     "metadata": {},
     "output_type": "execute_result"
    }
   ],
   "source": [
    "len(train_data)"
   ]
  },
  {
   "cell_type": "markdown",
   "metadata": {
    "id": "0XY17uCz0ecY"
   },
   "source": [
    "- the train data contains 10,000 samples"
   ]
  },
  {
   "cell_type": "code",
   "execution_count": 8,
   "metadata": {
    "colab": {
     "base_uri": "https://localhost:8080/"
    },
    "id": "3Bt8MOjQ0ecZ",
    "outputId": "632c8531-5520-4a87-d113-13d26ce6e20f"
   },
   "outputs": [
    {
     "data": {
      "text/plain": [
       "(['Mary',\n",
       "  'went',\n",
       "  'back',\n",
       "  'to',\n",
       "  'the',\n",
       "  'bathroom',\n",
       "  '.',\n",
       "  'Daniel',\n",
       "  'went',\n",
       "  'to',\n",
       "  'the',\n",
       "  'office',\n",
       "  '.'],\n",
       " ['Is', 'Mary', 'in', 'the', 'bathroom', '?'],\n",
       " 'yes')"
      ]
     },
     "execution_count": 8,
     "metadata": {},
     "output_type": "execute_result"
    }
   ],
   "source": [
    "train_data[50]"
   ]
  },
  {
   "cell_type": "code",
   "execution_count": 9,
   "metadata": {
    "colab": {
     "base_uri": "https://localhost:8080/"
    },
    "id": "Xs_gOfC90eca",
    "outputId": "a13b3cb5-e303-48af-d55e-9e957fb5d6ae"
   },
   "outputs": [
    {
     "data": {
      "text/plain": [
       "(['Mary',\n",
       "  'moved',\n",
       "  'to',\n",
       "  'the',\n",
       "  'bathroom',\n",
       "  '.',\n",
       "  'Sandra',\n",
       "  'journeyed',\n",
       "  'to',\n",
       "  'the',\n",
       "  'bedroom',\n",
       "  '.'],\n",
       " ['Is', 'Sandra', 'in', 'the', 'hallway', '?'],\n",
       " 'no')"
      ]
     },
     "execution_count": 9,
     "metadata": {},
     "output_type": "execute_result"
    }
   ],
   "source": [
    "train_data[0]"
   ]
  },
  {
   "cell_type": "code",
   "execution_count": 10,
   "metadata": {
    "colab": {
     "base_uri": "https://localhost:8080/"
    },
    "id": "_ltkc3JH0ecb",
    "outputId": "099bd8ba-d0f6-48bb-dd1c-d847577afce2"
   },
   "outputs": [
    {
     "name": "stdout",
     "output_type": "stream",
     "text": [
      "Story:\n",
      "Daniel grabbed the apple there.\n",
      "Daniel went to the bedroom.\n",
      "John moved to the garden.\n",
      "Sandra journeyed to the office.\n",
      "Daniel put down the apple.\n",
      "Mary went to the bedroom.\n",
      "Mary grabbed the apple there.\n",
      "Sandra went back to the garden.\n",
      "Mary went to the kitchen.\n",
      "Daniel went to the office.\n",
      "\n",
      "Question: Is Mary in the garden?\n",
      "\n",
      "Answer: no\n"
     ]
    }
   ],
   "source": [
    "text=''\n",
    "print('Story:')\n",
    "for sent in train_data[99]:\n",
    "    if sent!='yes' and sent!='no':\n",
    "        for word in sent:\n",
    "            if (word!='.'):\n",
    "                if (word!='?'):\n",
    "                    text+= word + ' '\n",
    "                else:\n",
    "                    print()\n",
    "                    print('Question:', text[:-1]+word)\n",
    "                    print()\n",
    "            else:\n",
    "                print(text[:-1]+word)\n",
    "                text=''\n",
    "    else:\n",
    "        print('Answer:', sent)"
   ]
  },
  {
   "cell_type": "markdown",
   "metadata": {
    "id": "Vic7Iy0r0ecd"
   },
   "source": [
    "- list of tuples\n",
    "    - tuple contains: story x, question q and answer a"
   ]
  },
  {
   "cell_type": "code",
   "execution_count": 11,
   "metadata": {
    "colab": {
     "base_uri": "https://localhost:8080/",
     "height": 35
    },
    "id": "chmT4P830ece",
    "outputId": "a2155237-e2f6-4b9d-d042-33b08ac318f2"
   },
   "outputs": [
    {
     "data": {
      "application/vnd.google.colaboratory.intrinsic+json": {
       "type": "string"
      },
      "text/plain": [
       "'Mary moved to the bathroom . Sandra journeyed to the bedroom .'"
      ]
     },
     "execution_count": 11,
     "metadata": {},
     "output_type": "execute_result"
    }
   ],
   "source": [
    "' '.join(train_data[0][0])"
   ]
  },
  {
   "cell_type": "code",
   "execution_count": 12,
   "metadata": {
    "colab": {
     "base_uri": "https://localhost:8080/",
     "height": 35
    },
    "id": "Ut0pmqj70ece",
    "outputId": "8f00a231-4868-4f7c-c664-844aaf12f5c1"
   },
   "outputs": [
    {
     "data": {
      "application/vnd.google.colaboratory.intrinsic+json": {
       "type": "string"
      },
      "text/plain": [
       "'Is Sandra in the hallway ?'"
      ]
     },
     "execution_count": 12,
     "metadata": {},
     "output_type": "execute_result"
    }
   ],
   "source": [
    "' '.join(train_data[0][1])"
   ]
  },
  {
   "cell_type": "code",
   "execution_count": 13,
   "metadata": {
    "colab": {
     "base_uri": "https://localhost:8080/",
     "height": 35
    },
    "id": "YTSP-1D20ecg",
    "outputId": "c4d9148e-d267-4e71-ebbd-2b6a84617b03"
   },
   "outputs": [
    {
     "data": {
      "application/vnd.google.colaboratory.intrinsic+json": {
       "type": "string"
      },
      "text/plain": [
       "'no'"
      ]
     },
     "execution_count": 13,
     "metadata": {},
     "output_type": "execute_result"
    }
   ],
   "source": [
    "train_data[0][2]"
   ]
  },
  {
   "cell_type": "markdown",
   "metadata": {
    "id": "OvdXjda70ecg"
   },
   "source": [
    "-----\n",
    "\n",
    "## Setting up Vocabulary of All Words"
   ]
  },
  {
   "cell_type": "code",
   "execution_count": 14,
   "metadata": {
    "id": "DcKQ67A_0ech"
   },
   "outputs": [],
   "source": [
    "# Create a set that holds the vocab words\n",
    "vocab = set()"
   ]
  },
  {
   "cell_type": "code",
   "execution_count": 15,
   "metadata": {
    "id": "5E1mywtY0ech"
   },
   "outputs": [],
   "source": [
    "all_data = test_data + train_data"
   ]
  },
  {
   "cell_type": "code",
   "execution_count": 16,
   "metadata": {
    "colab": {
     "base_uri": "https://localhost:8080/"
    },
    "id": "fH2HDZ3m0eci",
    "outputId": "84972a23-0711-4d1b-f25c-31a4a2d386be"
   },
   "outputs": [
    {
     "data": {
      "text/plain": [
       "11000"
      ]
     },
     "execution_count": 16,
     "metadata": {},
     "output_type": "execute_result"
    }
   ],
   "source": [
    "len(all_data)"
   ]
  },
  {
   "cell_type": "code",
   "execution_count": 17,
   "metadata": {
    "colab": {
     "base_uri": "https://localhost:8080/"
    },
    "id": "8wt3tJrx0ecj",
    "outputId": "6598ba1a-9e28-4c00-d0d7-08fca7f3d345"
   },
   "outputs": [
    {
     "data": {
      "text/plain": [
       "{'.',\n",
       " 'Mary',\n",
       " 'Sandra',\n",
       " 'bathroom',\n",
       " 'bedroom',\n",
       " 'journeyed',\n",
       " 'moved',\n",
       " 'the',\n",
       " 'to'}"
      ]
     },
     "execution_count": 17,
     "metadata": {},
     "output_type": "execute_result"
    }
   ],
   "source": [
    "set(train_data[0][0]) # story component"
   ]
  },
  {
   "cell_type": "code",
   "execution_count": 18,
   "metadata": {
    "id": "TYMDrV9r0ecj"
   },
   "outputs": [],
   "source": [
    "for story, question , answer in all_data:\n",
    "    # In case you don't know what a union of sets is:\n",
    "    # https://www.programiz.com/python-programming/methods/set/union\n",
    "    vocab = vocab.union(set(story))\n",
    "    vocab = vocab.union(set(question))"
   ]
  },
  {
   "cell_type": "markdown",
   "metadata": {
    "id": "003PQ_Zv0eck"
   },
   "source": [
    "- adding the answer possibilities"
   ]
  },
  {
   "cell_type": "code",
   "execution_count": 19,
   "metadata": {
    "id": "w_Gtjo9o0eck"
   },
   "outputs": [],
   "source": [
    "vocab.add('no')\n",
    "vocab.add('yes')"
   ]
  },
  {
   "cell_type": "code",
   "execution_count": 20,
   "metadata": {
    "colab": {
     "base_uri": "https://localhost:8080/"
    },
    "id": "SrkL18zc0eck",
    "outputId": "62cfd523-db06-4642-b9f6-6a7a18bdbd13"
   },
   "outputs": [
    {
     "data": {
      "text/plain": [
       "{'.',\n",
       " '?',\n",
       " 'Daniel',\n",
       " 'Is',\n",
       " 'John',\n",
       " 'Mary',\n",
       " 'Sandra',\n",
       " 'apple',\n",
       " 'back',\n",
       " 'bathroom',\n",
       " 'bedroom',\n",
       " 'discarded',\n",
       " 'down',\n",
       " 'dropped',\n",
       " 'football',\n",
       " 'garden',\n",
       " 'got',\n",
       " 'grabbed',\n",
       " 'hallway',\n",
       " 'in',\n",
       " 'journeyed',\n",
       " 'kitchen',\n",
       " 'left',\n",
       " 'milk',\n",
       " 'moved',\n",
       " 'no',\n",
       " 'office',\n",
       " 'picked',\n",
       " 'put',\n",
       " 'the',\n",
       " 'there',\n",
       " 'to',\n",
       " 'took',\n",
       " 'travelled',\n",
       " 'up',\n",
       " 'went',\n",
       " 'yes'}"
      ]
     },
     "execution_count": 20,
     "metadata": {},
     "output_type": "execute_result"
    }
   ],
   "source": [
    "vocab"
   ]
  },
  {
   "cell_type": "code",
   "execution_count": 21,
   "metadata": {
    "id": "VDD1oD2R0ecl"
   },
   "outputs": [],
   "source": [
    "vocab_len = len(vocab) + 1 # we add an extra space to hold a 0 for Keras's pad_sequences"
   ]
  },
  {
   "cell_type": "code",
   "execution_count": 22,
   "metadata": {
    "colab": {
     "base_uri": "https://localhost:8080/"
    },
    "id": "MIe0yzBv0ecl",
    "outputId": "ba165f5a-4f03-4c79-888d-27f4a38b7700"
   },
   "outputs": [
    {
     "data": {
      "text/plain": [
       "38"
      ]
     },
     "execution_count": 22,
     "metadata": {},
     "output_type": "execute_result"
    }
   ],
   "source": [
    "vocab_len"
   ]
  },
  {
   "cell_type": "code",
   "execution_count": 23,
   "metadata": {
    "id": "J0XROAhi0ecm"
   },
   "outputs": [],
   "source": [
    "max_story_len = max([len(data[0]) for data in all_data])"
   ]
  },
  {
   "cell_type": "code",
   "execution_count": 24,
   "metadata": {
    "colab": {
     "base_uri": "https://localhost:8080/"
    },
    "id": "m9Vc90AS0ecm",
    "outputId": "dccff930-8a60-4f57-b226-d0cb386f7f3b"
   },
   "outputs": [
    {
     "data": {
      "text/plain": [
       "156"
      ]
     },
     "execution_count": 24,
     "metadata": {},
     "output_type": "execute_result"
    }
   ],
   "source": [
    "max_story_len"
   ]
  },
  {
   "cell_type": "code",
   "execution_count": 25,
   "metadata": {
    "id": "FXa6ejCV0ecm"
   },
   "outputs": [],
   "source": [
    "max_question_len = max([len(data[1]) for data in all_data])"
   ]
  },
  {
   "cell_type": "code",
   "execution_count": 26,
   "metadata": {
    "colab": {
     "base_uri": "https://localhost:8080/"
    },
    "id": "jS58yewW0ecn",
    "outputId": "fdbf281a-790f-4999-dade-27f63f400890"
   },
   "outputs": [
    {
     "data": {
      "text/plain": [
       "6"
      ]
     },
     "execution_count": 26,
     "metadata": {},
     "output_type": "execute_result"
    }
   ],
   "source": [
    "max_question_len"
   ]
  },
  {
   "cell_type": "markdown",
   "metadata": {
    "id": "Cc-BqKfX0ecn"
   },
   "source": [
    "## Vectorizing the Data"
   ]
  },
  {
   "cell_type": "code",
   "execution_count": 27,
   "metadata": {
    "id": "RLwGZne50ecn"
   },
   "outputs": [],
   "source": [
    "# Reserve 0 for pad_sequences\n",
    "vocab_size = len(vocab) + 1"
   ]
  },
  {
   "cell_type": "markdown",
   "metadata": {
    "id": "iUALwKuk0eco"
   },
   "source": [
    "-----------"
   ]
  },
  {
   "cell_type": "code",
   "execution_count": 28,
   "metadata": {
    "id": "_iEvDZE80eco"
   },
   "outputs": [],
   "source": [
    "from tensorflow.keras.preprocessing.sequence import pad_sequences\n",
    "from tensorflow.keras.preprocessing.text import Tokenizer"
   ]
  },
  {
   "cell_type": "code",
   "execution_count": 29,
   "metadata": {
    "id": "v7drCXDm0ecp"
   },
   "outputs": [],
   "source": [
    "# integer encode sequences of words\n",
    "tokenizer = Tokenizer(filters=[])   # provide empty list for filter out\n",
    "tokenizer.fit_on_texts(vocab)"
   ]
  },
  {
   "cell_type": "code",
   "execution_count": 30,
   "metadata": {
    "colab": {
     "base_uri": "https://localhost:8080/"
    },
    "id": "jExGpCFk0ecp",
    "outputId": "3b5dbb85-2a10-44b1-bd09-08a22e2bb189"
   },
   "outputs": [
    {
     "data": {
      "text/plain": [
       "{'.': 31,\n",
       " '?': 29,\n",
       " 'apple': 36,\n",
       " 'back': 35,\n",
       " 'bathroom': 27,\n",
       " 'bedroom': 34,\n",
       " 'daniel': 4,\n",
       " 'discarded': 18,\n",
       " 'down': 12,\n",
       " 'dropped': 19,\n",
       " 'football': 7,\n",
       " 'garden': 11,\n",
       " 'got': 26,\n",
       " 'grabbed': 1,\n",
       " 'hallway': 33,\n",
       " 'in': 21,\n",
       " 'is': 16,\n",
       " 'john': 32,\n",
       " 'journeyed': 17,\n",
       " 'kitchen': 37,\n",
       " 'left': 9,\n",
       " 'mary': 20,\n",
       " 'milk': 28,\n",
       " 'moved': 30,\n",
       " 'no': 2,\n",
       " 'office': 10,\n",
       " 'picked': 5,\n",
       " 'put': 14,\n",
       " 'sandra': 22,\n",
       " 'the': 25,\n",
       " 'there': 3,\n",
       " 'to': 6,\n",
       " 'took': 8,\n",
       " 'travelled': 24,\n",
       " 'up': 13,\n",
       " 'went': 15,\n",
       " 'yes': 23}"
      ]
     },
     "execution_count": 30,
     "metadata": {},
     "output_type": "execute_result"
    }
   ],
   "source": [
    "tokenizer.word_index"
   ]
  },
  {
   "cell_type": "code",
   "execution_count": 31,
   "metadata": {
    "id": "8Gf3j9NU0ecq"
   },
   "outputs": [],
   "source": [
    "train_story_text = []\n",
    "train_question_text = []\n",
    "train_answers = []\n",
    "\n",
    "for story,question,answer in train_data:\n",
    "    train_story_text.append(story)\n",
    "    train_question_text.append(question)"
   ]
  },
  {
   "cell_type": "code",
   "execution_count": 32,
   "metadata": {
    "id": "YhDoxdAc0ecq"
   },
   "outputs": [],
   "source": [
    "train_story_seq = tokenizer.texts_to_sequences(train_story_text)"
   ]
  },
  {
   "cell_type": "code",
   "execution_count": 33,
   "metadata": {
    "colab": {
     "base_uri": "https://localhost:8080/"
    },
    "id": "wsqqWORz0ecq",
    "outputId": "225b9f32-987e-4df6-9bdd-2b4350adac72"
   },
   "outputs": [
    {
     "data": {
      "text/plain": [
       "10000"
      ]
     },
     "execution_count": 33,
     "metadata": {},
     "output_type": "execute_result"
    }
   ],
   "source": [
    "len(train_story_text)"
   ]
  },
  {
   "cell_type": "code",
   "execution_count": 34,
   "metadata": {
    "colab": {
     "base_uri": "https://localhost:8080/"
    },
    "id": "sprM7J0i0ecr",
    "outputId": "f9556fd6-d424-4c87-e757-3a84a28cfcd7"
   },
   "outputs": [
    {
     "data": {
      "text/plain": [
       "10000"
      ]
     },
     "execution_count": 34,
     "metadata": {},
     "output_type": "execute_result"
    }
   ],
   "source": [
    "len(train_story_seq)"
   ]
  },
  {
   "cell_type": "code",
   "execution_count": 35,
   "metadata": {
    "id": "AFQM4u5r0ecr"
   },
   "outputs": [],
   "source": [
    "# word_index = tokenizer.word_index"
   ]
  },
  {
   "cell_type": "markdown",
   "metadata": {
    "id": "pz-rWIGq0ecr"
   },
   "source": [
    "### Functionalize Vectorization"
   ]
  },
  {
   "cell_type": "code",
   "execution_count": 36,
   "metadata": {
    "id": "lG4Br06L0ecs"
   },
   "outputs": [],
   "source": [
    "def vectorize_stories(data, word_index=tokenizer.word_index, max_story_len=max_story_len,max_question_len=max_question_len):\n",
    "    '''\n",
    "    INPUT: \n",
    "    \n",
    "    data: consisting of Stories,Queries,and Answers\n",
    "    word_index: word index dictionary from tokenizer\n",
    "    max_story_len: the length of the longest story (used for pad_sequences function)\n",
    "    max_question_len: length of the longest question (used for pad_sequences function)\n",
    "\n",
    "\n",
    "    OUTPUT:\n",
    "    \n",
    "    Vectorizes the stories,questions, and answers into padded sequences. We first loop for every story, query , and\n",
    "    answer in the data. Then we convert the raw words to an word index value. Then we append each set to their appropriate\n",
    "    output list. Then once we have converted the words to numbers, we pad the sequences so they are all of equal length.\n",
    "    \n",
    "    Returns this in the form of a tuple (X,Xq,Y) (padded based on max lengths)\n",
    "    '''\n",
    "    \n",
    "    \n",
    "    # X = STORIES\n",
    "    X = []\n",
    "    # Xq = QUERY/QUESTION\n",
    "    Xq = []\n",
    "    # Y = CORRECT ANSWER\n",
    "    Y = []\n",
    "    \n",
    "    \n",
    "    for story, query, answer in data:\n",
    "        \n",
    "        # Grab the word index for every word in story\n",
    "        x = [word_index[word.lower()] for word in story]\n",
    "        # Grab the word index for every word in query\n",
    "        xq = [word_index[word.lower()] for word in query]\n",
    "        \n",
    "        # Grab the Answers (either Yes/No so we don't need to use list comprehension here)\n",
    "        # Index 0 is reserved so we're going to use + 1\n",
    "        y = np.zeros(vocab_size)  # this includes +1 for padding\n",
    "        \n",
    "        # Now that y is all zeros and we know its just Yes/No , we can use numpy logic to create this assignment\n",
    "        y[word_index[answer]] = 1\n",
    "        \n",
    "        # Append each set of story,query, and answer to their respective holding lists\n",
    "        X.append(x)\n",
    "        Xq.append(xq)\n",
    "        Y.append(y)\n",
    "        \n",
    "    # Finally, pad the sequences based on their max length so the RNN can be trained on uniformly long sequences.\n",
    "        \n",
    "    # RETURN TUPLE FOR UNPACKING\n",
    "    return (pad_sequences(X, maxlen=max_story_len),pad_sequences(Xq, maxlen=max_question_len), np.array(Y))"
   ]
  },
  {
   "cell_type": "code",
   "execution_count": 37,
   "metadata": {
    "id": "yvb1QzmC0ecs"
   },
   "outputs": [],
   "source": [
    "inputs_train, queries_train, answers_train = vectorize_stories(train_data)"
   ]
  },
  {
   "cell_type": "code",
   "execution_count": 38,
   "metadata": {
    "id": "XW5yW4rU0ect"
   },
   "outputs": [],
   "source": [
    "inputs_test, queries_test, answers_test = vectorize_stories(test_data)"
   ]
  },
  {
   "cell_type": "code",
   "execution_count": 39,
   "metadata": {
    "colab": {
     "base_uri": "https://localhost:8080/"
    },
    "id": "zYAGjq020ect",
    "outputId": "e395b724-5fa3-4281-9498-deb8dac10691"
   },
   "outputs": [
    {
     "data": {
      "text/plain": [
       "array([[ 0,  0,  0, ..., 25, 34, 31],\n",
       "       [ 0,  0,  0, ..., 25, 11, 31],\n",
       "       [ 0,  0,  0, ..., 25, 11, 31],\n",
       "       ...,\n",
       "       [ 0,  0,  0, ..., 25, 36, 31],\n",
       "       [ 0,  0,  0, ..., 25, 11, 31],\n",
       "       [ 0,  0,  0, ..., 36,  3, 31]], dtype=int32)"
      ]
     },
     "execution_count": 39,
     "metadata": {},
     "output_type": "execute_result"
    }
   ],
   "source": [
    "# padding mode 'pre'\n",
    "inputs_test"
   ]
  },
  {
   "cell_type": "code",
   "execution_count": 40,
   "metadata": {
    "colab": {
     "base_uri": "https://localhost:8080/"
    },
    "id": "fMFITUYJ0ect",
    "outputId": "81e68e8c-27be-4818-c1e2-3fb75a554aef"
   },
   "outputs": [
    {
     "data": {
      "text/plain": [
       "array([[16, 32, 21, 25, 37, 29],\n",
       "       [16, 32, 21, 25, 37, 29],\n",
       "       [16, 32, 21, 25, 11, 29],\n",
       "       ...,\n",
       "       [16, 20, 21, 25, 34, 29],\n",
       "       [16, 22, 21, 25, 11, 29],\n",
       "       [16, 20, 21, 25, 11, 29]], dtype=int32)"
      ]
     },
     "execution_count": 40,
     "metadata": {},
     "output_type": "execute_result"
    }
   ],
   "source": [
    "queries_test"
   ]
  },
  {
   "cell_type": "code",
   "execution_count": 41,
   "metadata": {
    "colab": {
     "base_uri": "https://localhost:8080/"
    },
    "id": "1RPQNIhI0ecu",
    "outputId": "aae4eba9-0668-44a1-d84e-0848b56af53d"
   },
   "outputs": [
    {
     "data": {
      "text/plain": [
       "array([[0., 0., 1., ..., 0., 0., 0.],\n",
       "       [0., 0., 1., ..., 0., 0., 0.],\n",
       "       [0., 0., 0., ..., 0., 0., 0.],\n",
       "       ...,\n",
       "       [0., 0., 1., ..., 0., 0., 0.],\n",
       "       [0., 0., 0., ..., 0., 0., 0.],\n",
       "       [0., 0., 0., ..., 0., 0., 0.]])"
      ]
     },
     "execution_count": 41,
     "metadata": {},
     "output_type": "execute_result"
    }
   ],
   "source": [
    "# one-hot vectors of size V vocabulary for Yes / No\n",
    "answers_test"
   ]
  },
  {
   "cell_type": "code",
   "execution_count": 42,
   "metadata": {
    "colab": {
     "base_uri": "https://localhost:8080/"
    },
    "id": "RXdNaCcp0ecu",
    "outputId": "574e21d9-4c3c-41ff-b76c-bc4146d3088c"
   },
   "outputs": [
    {
     "data": {
      "text/plain": [
       "array([  0.,   0., 503.,   0.,   0.,   0.,   0.,   0.,   0.,   0.,   0.,\n",
       "         0.,   0.,   0.,   0.,   0.,   0.,   0.,   0.,   0.,   0.,   0.,\n",
       "         0., 497.,   0.,   0.,   0.,   0.,   0.,   0.,   0.,   0.,   0.,\n",
       "         0.,   0.,   0.,   0.,   0.])"
      ]
     },
     "execution_count": 42,
     "metadata": {},
     "output_type": "execute_result"
    }
   ],
   "source": [
    "# Equal proportion of Yes / No answers\n",
    "sum(answers_test)"
   ]
  },
  {
   "cell_type": "code",
   "execution_count": 43,
   "metadata": {
    "colab": {
     "base_uri": "https://localhost:8080/"
    },
    "id": "AA4ZFLHG0ecu",
    "outputId": "104cff9c-c429-4c9b-b426-df648512f5e3"
   },
   "outputs": [
    {
     "data": {
      "text/plain": [
       "23"
      ]
     },
     "execution_count": 43,
     "metadata": {},
     "output_type": "execute_result"
    }
   ],
   "source": [
    "tokenizer.word_index['yes']"
   ]
  },
  {
   "cell_type": "code",
   "execution_count": 44,
   "metadata": {
    "colab": {
     "base_uri": "https://localhost:8080/"
    },
    "id": "2zu3Bqca0ecv",
    "outputId": "a7bbe87e-72e5-4721-8cf7-f6118b31c5d1"
   },
   "outputs": [
    {
     "data": {
      "text/plain": [
       "2"
      ]
     },
     "execution_count": 44,
     "metadata": {},
     "output_type": "execute_result"
    }
   ],
   "source": [
    "tokenizer.word_index['no']"
   ]
  },
  {
   "cell_type": "markdown",
   "metadata": {
    "id": "cjZ8_uU50ecv"
   },
   "source": [
    "## Creating the Model"
   ]
  },
  {
   "cell_type": "code",
   "execution_count": 45,
   "metadata": {
    "id": "6Ptufaqf0ecw"
   },
   "outputs": [],
   "source": [
    "from tensorflow.keras.models import Sequential, Model\n",
    "from tensorflow.keras.layers import Embedding\n",
    "from tensorflow.keras.layers import Input, Activation, Dense, Permute, Dropout\n",
    "from tensorflow.keras.layers import add, dot, concatenate\n",
    "from tensorflow.keras.layers import LSTM\n",
    "from tensorflow.keras.optimizers import RMSprop"
   ]
  },
  {
   "cell_type": "markdown",
   "metadata": {
    "id": "Pj_UmiEE0ecw"
   },
   "source": [
    "### Placeholders for Inputs\n",
    "\n",
    "Recall we technically have two inputs, stories and questions. So we need to use placeholders. `Input()` is used to instantiate a Keras tensor.\n"
   ]
  },
  {
   "cell_type": "code",
   "execution_count": 46,
   "metadata": {
    "id": "KpaPgJpG0ecx"
   },
   "outputs": [],
   "source": [
    "input_sequence = Input((max_story_len,))\n",
    "question = Input((max_question_len,))"
   ]
  },
  {
   "cell_type": "markdown",
   "metadata": {
    "id": "FF4X54ZB0ecx"
   },
   "source": [
    "### Building the Networks"
   ]
  },
  {
   "cell_type": "markdown",
   "metadata": {
    "id": "m8BHWdPp0ecy"
   },
   "source": [
    "## Encoders\n",
    "\n",
    "### Input Encoder m"
   ]
  },
  {
   "cell_type": "code",
   "execution_count": 47,
   "metadata": {
    "id": "TAYtA6hL0ecy"
   },
   "outputs": [],
   "source": [
    "embedding_dim = 128\n",
    "\n",
    "# Input gets embedded to a sequence of vectors\n",
    "input_encoder_m = Sequential()\n",
    "input_encoder_m.add(Embedding(input_dim=vocab_size,output_dim= embedding_dim))\n",
    "input_encoder_m.add(Dropout(0.3))\n",
    "\n",
    "# This encoder will output:\n",
    "# (samples, story_maxlen, embedding_dim)"
   ]
  },
  {
   "cell_type": "markdown",
   "metadata": {
    "id": "_xY3HFgd0ecy"
   },
   "source": [
    "### Input Encoder c"
   ]
  },
  {
   "cell_type": "code",
   "execution_count": 48,
   "metadata": {
    "id": "6rpLbRzl0ecz"
   },
   "outputs": [],
   "source": [
    "# embed the input into a sequence of vectors of size query_maxlen\n",
    "input_encoder_c = Sequential()\n",
    "input_encoder_c.add(Embedding(input_dim=vocab_size,output_dim=max_question_len))\n",
    "input_encoder_c.add(Dropout(0.3))\n",
    "# output: (samples, story_maxlen, query_maxlen)"
   ]
  },
  {
   "cell_type": "markdown",
   "metadata": {
    "id": "viweNsCt0ecz"
   },
   "source": [
    "### Question Encoder"
   ]
  },
  {
   "cell_type": "code",
   "execution_count": 49,
   "metadata": {
    "id": "m_laDXmC0ec0"
   },
   "outputs": [],
   "source": [
    "# embed the question into a sequence of vectors\n",
    "question_encoder = Sequential()\n",
    "question_encoder.add(Embedding(input_dim=vocab_size,\n",
    "                               output_dim=embedding_dim,\n",
    "                               input_length=max_question_len))\n",
    "question_encoder.add(Dropout(0.3))\n",
    "# output: (samples, query_maxlen, embedding_dim)"
   ]
  },
  {
   "cell_type": "markdown",
   "metadata": {
    "id": "WpLbTQ6W0ec0"
   },
   "source": [
    "### Encode the Sequences"
   ]
  },
  {
   "cell_type": "code",
   "execution_count": 50,
   "metadata": {
    "id": "JdcN6Czf0ec0"
   },
   "outputs": [],
   "source": [
    "# encode input sequence and questions (which are indices) to sequences of dense vectors\n",
    "input_encoded_m = input_encoder_m(input_sequence)\n",
    "input_encoded_c = input_encoder_c(input_sequence)\n",
    "question_encoded = question_encoder(question)"
   ]
  },
  {
   "cell_type": "markdown",
   "metadata": {
    "id": "PdD8cfAd0ec1"
   },
   "source": [
    "##### Use dot product to compute the match between first input vector seq and the query"
   ]
  },
  {
   "cell_type": "code",
   "execution_count": 51,
   "metadata": {
    "id": "pC1lQ37_0ec1"
   },
   "outputs": [],
   "source": [
    "# shape: `(samples, story_maxlen, query_maxlen)`\n",
    "match = dot([input_encoded_m, question_encoded], axes=(2, 2))\n",
    "match = Activation('softmax')(match)"
   ]
  },
  {
   "cell_type": "markdown",
   "metadata": {
    "id": "lDwCtHg10ec1"
   },
   "source": [
    "#### Add this match matrix with the second input vector sequence"
   ]
  },
  {
   "cell_type": "code",
   "execution_count": 52,
   "metadata": {
    "id": "sDnj0Xd80ec2"
   },
   "outputs": [],
   "source": [
    "# add the match matrix with the second input vector sequence\n",
    "response = add([match, input_encoded_c])  # (samples, story_maxlen, query_maxlen)\n",
    "response = Permute((2, 1))(response)  # (samples, query_maxlen, story_maxlen)"
   ]
  },
  {
   "cell_type": "markdown",
   "metadata": {
    "id": "n0yL1q7q0ec2"
   },
   "source": [
    "#### Concatenate"
   ]
  },
  {
   "cell_type": "code",
   "execution_count": 53,
   "metadata": {
    "id": "SlOlAhux0ec3"
   },
   "outputs": [],
   "source": [
    "# concatenate the match matrix with the question vector sequence\n",
    "# (samples, query_maxlen, story_maxlen + embedding_dim)\n",
    "answer = concatenate([response, question_encoded])"
   ]
  },
  {
   "cell_type": "code",
   "execution_count": 54,
   "metadata": {
    "colab": {
     "base_uri": "https://localhost:8080/"
    },
    "id": "uFsmkMQy0ec3",
    "outputId": "a424f802-2537-4e69-bfac-6685b7eb1425"
   },
   "outputs": [
    {
     "data": {
      "text/plain": [
       "<KerasTensor: shape=(None, 6, 284) dtype=float32 (created by layer 'concatenate')>"
      ]
     },
     "execution_count": 54,
     "metadata": {},
     "output_type": "execute_result"
    }
   ],
   "source": [
    "answer"
   ]
  },
  {
   "cell_type": "code",
   "execution_count": 55,
   "metadata": {
    "id": "99VcexsY0ec3"
   },
   "outputs": [],
   "source": [
    "# Reduce with RNN (LSTM)\n",
    "answer = LSTM(32)(answer)  # shape (samples, 32)"
   ]
  },
  {
   "cell_type": "code",
   "execution_count": 56,
   "metadata": {
    "id": "c9am4fHc0ec4"
   },
   "outputs": [],
   "source": [
    "# Regularization with Dropout\n",
    "answer = Dropout(0.5)(answer)\n",
    "answer = Dense(vocab_size)(answer)  # (samples, vocab_size)"
   ]
  },
  {
   "cell_type": "code",
   "execution_count": 57,
   "metadata": {
    "id": "5m8wUiBs0ec4"
   },
   "outputs": [],
   "source": [
    "# we output a probability distribution over the vocabulary\n",
    "answer = Activation('softmax')(answer)\n",
    "\n",
    "# build the final model\n",
    "model = Model([input_sequence, question], answer)\n",
    "optimizer = RMSprop(learning_rate=0.01)\n",
    "model.compile(optimizer=optimizer, loss='categorical_crossentropy', metrics=['accuracy'])"
   ]
  },
  {
   "cell_type": "code",
   "execution_count": 58,
   "metadata": {
    "colab": {
     "base_uri": "https://localhost:8080/"
    },
    "id": "t2L5Yirg0ec5",
    "outputId": "0ea52ffd-9131-455b-8ae9-e123014c71fb"
   },
   "outputs": [
    {
     "name": "stdout",
     "output_type": "stream",
     "text": [
      "Model: \"model\"\n",
      "__________________________________________________________________________________________________\n",
      " Layer (type)                   Output Shape         Param #     Connected to                     \n",
      "==================================================================================================\n",
      " input_1 (InputLayer)           [(None, 156)]        0           []                               \n",
      "                                                                                                  \n",
      " input_2 (InputLayer)           [(None, 6)]          0           []                               \n",
      "                                                                                                  \n",
      " sequential (Sequential)        (None, None, 128)    4864        ['input_1[0][0]']                \n",
      "                                                                                                  \n",
      " sequential_2 (Sequential)      (None, 6, 128)       4864        ['input_2[0][0]']                \n",
      "                                                                                                  \n",
      " dot (Dot)                      (None, 156, 6)       0           ['sequential[0][0]',             \n",
      "                                                                  'sequential_2[0][0]']           \n",
      "                                                                                                  \n",
      " activation (Activation)        (None, 156, 6)       0           ['dot[0][0]']                    \n",
      "                                                                                                  \n",
      " sequential_1 (Sequential)      (None, None, 6)      228         ['input_1[0][0]']                \n",
      "                                                                                                  \n",
      " add (Add)                      (None, 156, 6)       0           ['activation[0][0]',             \n",
      "                                                                  'sequential_1[0][0]']           \n",
      "                                                                                                  \n",
      " permute (Permute)              (None, 6, 156)       0           ['add[0][0]']                    \n",
      "                                                                                                  \n",
      " concatenate (Concatenate)      (None, 6, 284)       0           ['permute[0][0]',                \n",
      "                                                                  'sequential_2[0][0]']           \n",
      "                                                                                                  \n",
      " lstm (LSTM)                    (None, 32)           40576       ['concatenate[0][0]']            \n",
      "                                                                                                  \n",
      " dropout_3 (Dropout)            (None, 32)           0           ['lstm[0][0]']                   \n",
      "                                                                                                  \n",
      " dense (Dense)                  (None, 38)           1254        ['dropout_3[0][0]']              \n",
      "                                                                                                  \n",
      " activation_1 (Activation)      (None, 38)           0           ['dense[0][0]']                  \n",
      "                                                                                                  \n",
      "==================================================================================================\n",
      "Total params: 51,786\n",
      "Trainable params: 51,786\n",
      "Non-trainable params: 0\n",
      "__________________________________________________________________________________________________\n"
     ]
    }
   ],
   "source": [
    "model.summary()"
   ]
  },
  {
   "cell_type": "code",
   "execution_count": 59,
   "metadata": {
    "id": "nzHuWTCK0ec5"
   },
   "outputs": [],
   "source": [
    "import math\n",
    "from tensorflow.keras.callbacks import ReduceLROnPlateau, EarlyStopping, ModelCheckpoint, LearningRateScheduler\n",
    "\n",
    "initial_learning_rate = 0.01\n",
    "epochs = 120\n",
    "decay = initial_learning_rate / epochs\n",
    "\n",
    "def lr_step_decay(epoch, lr):\n",
    "    drop_rate = 0.5\n",
    "    epochs_drop = 20\n",
    "    return initial_learning_rate * math.pow(drop_rate, math.floor(epoch/epochs_drop))\n",
    "\n",
    "learning_rate = LearningRateScheduler(lr_step_decay, verbose=1)\n",
    "\n",
    "reduce_lr = ReduceLROnPlateau(monitor='val_loss', factor=0.66, patience=5, min_lr=0.0001, verbose=1)  # factor by which the learning rate will be reduced. new_lr = lr * factor"
   ]
  },
  {
   "cell_type": "code",
   "execution_count": 60,
   "metadata": {
    "colab": {
     "base_uri": "https://localhost:8080/"
    },
    "id": "w0f8wfNV0ec6",
    "outputId": "40e15211-98cf-48f0-8c29-1898cc4eab15"
   },
   "outputs": [
    {
     "name": "stdout",
     "output_type": "stream",
     "text": [
      "Epoch 1/120\n",
      "40/40 [==============================] - 9s 140ms/step - loss: 0.8645 - accuracy: 0.4840 - val_loss: 0.7014 - val_accuracy: 0.5030\n",
      "Epoch 2/120\n",
      "40/40 [==============================] - 5s 125ms/step - loss: 0.7058 - accuracy: 0.4979 - val_loss: 0.7940 - val_accuracy: 0.4970\n",
      "Epoch 3/120\n",
      "40/40 [==============================] - 5s 126ms/step - loss: 0.7056 - accuracy: 0.4938 - val_loss: 0.7585 - val_accuracy: 0.5030\n",
      "Epoch 4/120\n",
      "40/40 [==============================] - 5s 127ms/step - loss: 0.7011 - accuracy: 0.4996 - val_loss: 0.6941 - val_accuracy: 0.4970\n",
      "Epoch 5/120\n",
      "40/40 [==============================] - 5s 125ms/step - loss: 0.6984 - accuracy: 0.5004 - val_loss: 0.7339 - val_accuracy: 0.4970\n",
      "Epoch 6/120\n",
      "40/40 [==============================] - 5s 125ms/step - loss: 0.6988 - accuracy: 0.4920 - val_loss: 0.6962 - val_accuracy: 0.4970\n",
      "Epoch 7/120\n",
      "40/40 [==============================] - 5s 126ms/step - loss: 0.6873 - accuracy: 0.5295 - val_loss: 0.9981 - val_accuracy: 0.5030\n",
      "Epoch 8/120\n",
      "40/40 [==============================] - 5s 126ms/step - loss: 0.5156 - accuracy: 0.7616 - val_loss: 0.4396 - val_accuracy: 0.8330\n",
      "Epoch 9/120\n",
      "40/40 [==============================] - 5s 124ms/step - loss: 0.3967 - accuracy: 0.8355 - val_loss: 0.5300 - val_accuracy: 0.8150\n",
      "Epoch 10/120\n",
      "40/40 [==============================] - 5s 124ms/step - loss: 0.3647 - accuracy: 0.8488 - val_loss: 0.4360 - val_accuracy: 0.7780\n",
      "Epoch 11/120\n",
      "40/40 [==============================] - 5s 123ms/step - loss: 0.3663 - accuracy: 0.8388 - val_loss: 0.4026 - val_accuracy: 0.8310\n",
      "Epoch 12/120\n",
      "40/40 [==============================] - 5s 124ms/step - loss: 0.3342 - accuracy: 0.8556 - val_loss: 0.3723 - val_accuracy: 0.8300\n",
      "Epoch 13/120\n",
      "40/40 [==============================] - 5s 125ms/step - loss: 0.3322 - accuracy: 0.8541 - val_loss: 0.3515 - val_accuracy: 0.8350\n",
      "Epoch 14/120\n",
      "40/40 [==============================] - 5s 125ms/step - loss: 0.3193 - accuracy: 0.8561 - val_loss: 0.3879 - val_accuracy: 0.8300\n",
      "Epoch 15/120\n",
      "40/40 [==============================] - 5s 125ms/step - loss: 0.3099 - accuracy: 0.8583 - val_loss: 0.3730 - val_accuracy: 0.8350\n",
      "Epoch 16/120\n",
      "40/40 [==============================] - 5s 125ms/step - loss: 0.3090 - accuracy: 0.8582 - val_loss: 0.3397 - val_accuracy: 0.8370\n",
      "Epoch 17/120\n",
      "40/40 [==============================] - 5s 124ms/step - loss: 0.3033 - accuracy: 0.8624 - val_loss: 0.3881 - val_accuracy: 0.8360\n",
      "Epoch 18/120\n",
      "40/40 [==============================] - 5s 124ms/step - loss: 0.2987 - accuracy: 0.8660 - val_loss: 0.3664 - val_accuracy: 0.8330\n",
      "Epoch 19/120\n",
      "40/40 [==============================] - 5s 125ms/step - loss: 0.2973 - accuracy: 0.8642 - val_loss: 0.4379 - val_accuracy: 0.8190\n",
      "Epoch 20/120\n",
      "40/40 [==============================] - 5s 125ms/step - loss: 0.2947 - accuracy: 0.8655 - val_loss: 0.3754 - val_accuracy: 0.8330\n",
      "Epoch 21/120\n",
      "40/40 [==============================] - 5s 125ms/step - loss: 0.2863 - accuracy: 0.8729 - val_loss: 0.3675 - val_accuracy: 0.8250\n",
      "Epoch 22/120\n",
      "40/40 [==============================] - 5s 124ms/step - loss: 0.2868 - accuracy: 0.8683 - val_loss: 0.3479 - val_accuracy: 0.8340\n",
      "Epoch 23/120\n",
      "40/40 [==============================] - 5s 124ms/step - loss: 0.2850 - accuracy: 0.8698 - val_loss: 0.3569 - val_accuracy: 0.8450\n",
      "Epoch 24/120\n",
      "40/40 [==============================] - 5s 124ms/step - loss: 0.2772 - accuracy: 0.8732 - val_loss: 0.3954 - val_accuracy: 0.8100\n",
      "Epoch 25/120\n",
      "40/40 [==============================] - 5s 125ms/step - loss: 0.2752 - accuracy: 0.8728 - val_loss: 0.3563 - val_accuracy: 0.8330\n",
      "Epoch 26/120\n",
      "40/40 [==============================] - 5s 123ms/step - loss: 0.2697 - accuracy: 0.8762 - val_loss: 0.3650 - val_accuracy: 0.8400\n",
      "Epoch 27/120\n",
      "40/40 [==============================] - 5s 125ms/step - loss: 0.2595 - accuracy: 0.8842 - val_loss: 0.5356 - val_accuracy: 0.7690\n",
      "Epoch 28/120\n",
      "40/40 [==============================] - 5s 125ms/step - loss: 0.2602 - accuracy: 0.8867 - val_loss: 0.4446 - val_accuracy: 0.8260\n",
      "Epoch 29/120\n",
      "40/40 [==============================] - 5s 125ms/step - loss: 0.2504 - accuracy: 0.8890 - val_loss: 0.3984 - val_accuracy: 0.8460\n",
      "Epoch 30/120\n",
      "40/40 [==============================] - 5s 124ms/step - loss: 0.2300 - accuracy: 0.8964 - val_loss: 0.3915 - val_accuracy: 0.8490\n",
      "Epoch 31/120\n",
      "40/40 [==============================] - 5s 124ms/step - loss: 0.2241 - accuracy: 0.8985 - val_loss: 0.3348 - val_accuracy: 0.8570\n",
      "Epoch 32/120\n",
      "40/40 [==============================] - 5s 124ms/step - loss: 0.2098 - accuracy: 0.9061 - val_loss: 0.4232 - val_accuracy: 0.8430\n",
      "Epoch 33/120\n",
      "40/40 [==============================] - 5s 126ms/step - loss: 0.2079 - accuracy: 0.9097 - val_loss: 0.3171 - val_accuracy: 0.8670\n",
      "Epoch 34/120\n",
      "40/40 [==============================] - 5s 125ms/step - loss: 0.1887 - accuracy: 0.9185 - val_loss: 0.3203 - val_accuracy: 0.8660\n",
      "Epoch 35/120\n",
      "40/40 [==============================] - 5s 125ms/step - loss: 0.1713 - accuracy: 0.9273 - val_loss: 0.2856 - val_accuracy: 0.8880\n",
      "Epoch 36/120\n",
      "40/40 [==============================] - 5s 124ms/step - loss: 0.1612 - accuracy: 0.9306 - val_loss: 0.2732 - val_accuracy: 0.8670\n",
      "Epoch 37/120\n",
      "40/40 [==============================] - 5s 124ms/step - loss: 0.1548 - accuracy: 0.9327 - val_loss: 0.2438 - val_accuracy: 0.8970\n",
      "Epoch 38/120\n",
      "40/40 [==============================] - 5s 124ms/step - loss: 0.1473 - accuracy: 0.9371 - val_loss: 0.2654 - val_accuracy: 0.8990\n",
      "Epoch 39/120\n",
      "40/40 [==============================] - 5s 124ms/step - loss: 0.1445 - accuracy: 0.9413 - val_loss: 0.2440 - val_accuracy: 0.9030\n",
      "Epoch 40/120\n",
      "40/40 [==============================] - 5s 124ms/step - loss: 0.1300 - accuracy: 0.9452 - val_loss: 0.2522 - val_accuracy: 0.9020\n",
      "Epoch 41/120\n",
      "40/40 [==============================] - 5s 123ms/step - loss: 0.1302 - accuracy: 0.9450 - val_loss: 0.2652 - val_accuracy: 0.9090\n",
      "Epoch 42/120\n",
      "40/40 [==============================] - 5s 123ms/step - loss: 0.1244 - accuracy: 0.9488 - val_loss: 0.2813 - val_accuracy: 0.9050\n",
      "Epoch 43/120\n",
      "40/40 [==============================] - 5s 124ms/step - loss: 0.1224 - accuracy: 0.9479 - val_loss: 0.2613 - val_accuracy: 0.8950\n",
      "Epoch 44/120\n",
      "40/40 [==============================] - 5s 124ms/step - loss: 0.1141 - accuracy: 0.9535 - val_loss: 0.2382 - val_accuracy: 0.9120\n",
      "Epoch 45/120\n",
      "40/40 [==============================] - 5s 124ms/step - loss: 0.1086 - accuracy: 0.9554 - val_loss: 0.2749 - val_accuracy: 0.9210\n",
      "Epoch 46/120\n",
      "40/40 [==============================] - 5s 125ms/step - loss: 0.1103 - accuracy: 0.9559 - val_loss: 0.2848 - val_accuracy: 0.9240\n",
      "Epoch 47/120\n",
      "40/40 [==============================] - 5s 125ms/step - loss: 0.0951 - accuracy: 0.9623 - val_loss: 0.2891 - val_accuracy: 0.9200\n",
      "Epoch 48/120\n",
      "40/40 [==============================] - 5s 124ms/step - loss: 0.0953 - accuracy: 0.9620 - val_loss: 0.2966 - val_accuracy: 0.9250\n",
      "Epoch 49/120\n",
      "40/40 [==============================] - 5s 124ms/step - loss: 0.0887 - accuracy: 0.9656 - val_loss: 0.3361 - val_accuracy: 0.9130\n",
      "Epoch 50/120\n",
      "40/40 [==============================] - 5s 125ms/step - loss: 0.0839 - accuracy: 0.9664 - val_loss: 0.2378 - val_accuracy: 0.9250\n",
      "Epoch 51/120\n",
      "40/40 [==============================] - 5s 124ms/step - loss: 0.0831 - accuracy: 0.9656 - val_loss: 0.2870 - val_accuracy: 0.9260\n",
      "Epoch 52/120\n",
      "40/40 [==============================] - 5s 125ms/step - loss: 0.0812 - accuracy: 0.9693 - val_loss: 0.2632 - val_accuracy: 0.9290\n",
      "Epoch 53/120\n",
      "40/40 [==============================] - 5s 124ms/step - loss: 0.0764 - accuracy: 0.9720 - val_loss: 0.2849 - val_accuracy: 0.9120\n",
      "Epoch 54/120\n",
      "40/40 [==============================] - 5s 124ms/step - loss: 0.0763 - accuracy: 0.9674 - val_loss: 0.2237 - val_accuracy: 0.9160\n",
      "Epoch 55/120\n",
      "40/40 [==============================] - 5s 125ms/step - loss: 0.0696 - accuracy: 0.9738 - val_loss: 0.3078 - val_accuracy: 0.9290\n",
      "Epoch 56/120\n",
      "40/40 [==============================] - 5s 125ms/step - loss: 0.0663 - accuracy: 0.9738 - val_loss: 0.2668 - val_accuracy: 0.9310\n",
      "Epoch 57/120\n",
      "40/40 [==============================] - 5s 124ms/step - loss: 0.0682 - accuracy: 0.9743 - val_loss: 0.2897 - val_accuracy: 0.9320\n",
      "Epoch 58/120\n",
      "40/40 [==============================] - 5s 125ms/step - loss: 0.0645 - accuracy: 0.9750 - val_loss: 0.2966 - val_accuracy: 0.9220\n",
      "Epoch 59/120\n",
      "40/40 [==============================] - 5s 124ms/step - loss: 0.0583 - accuracy: 0.9781 - val_loss: 0.2767 - val_accuracy: 0.9330\n",
      "Epoch 60/120\n",
      "40/40 [==============================] - 5s 125ms/step - loss: 0.0542 - accuracy: 0.9784 - val_loss: 0.2755 - val_accuracy: 0.9290\n",
      "Epoch 61/120\n",
      "40/40 [==============================] - 5s 126ms/step - loss: 0.0597 - accuracy: 0.9789 - val_loss: 0.3485 - val_accuracy: 0.9230\n",
      "Epoch 62/120\n",
      "40/40 [==============================] - 5s 124ms/step - loss: 0.0546 - accuracy: 0.9805 - val_loss: 0.3169 - val_accuracy: 0.9280\n",
      "Epoch 63/120\n",
      "40/40 [==============================] - 5s 125ms/step - loss: 0.0512 - accuracy: 0.9818 - val_loss: 0.2721 - val_accuracy: 0.9260\n",
      "Epoch 64/120\n",
      "40/40 [==============================] - 5s 125ms/step - loss: 0.0502 - accuracy: 0.9808 - val_loss: 0.2672 - val_accuracy: 0.9380\n",
      "Epoch 65/120\n",
      "40/40 [==============================] - 5s 124ms/step - loss: 0.0491 - accuracy: 0.9834 - val_loss: 0.2806 - val_accuracy: 0.9310\n",
      "Epoch 66/120\n",
      "40/40 [==============================] - 5s 125ms/step - loss: 0.0499 - accuracy: 0.9811 - val_loss: 0.2967 - val_accuracy: 0.9300\n",
      "Epoch 67/120\n",
      "40/40 [==============================] - 5s 125ms/step - loss: 0.0461 - accuracy: 0.9829 - val_loss: 0.2428 - val_accuracy: 0.9230\n",
      "Epoch 68/120\n",
      "40/40 [==============================] - 5s 125ms/step - loss: 0.0481 - accuracy: 0.9815 - val_loss: 0.2676 - val_accuracy: 0.9300\n",
      "Epoch 69/120\n",
      "40/40 [==============================] - 5s 125ms/step - loss: 0.0423 - accuracy: 0.9847 - val_loss: 0.3511 - val_accuracy: 0.9300\n",
      "Epoch 70/120\n",
      "40/40 [==============================] - 5s 124ms/step - loss: 0.0518 - accuracy: 0.9818 - val_loss: 0.2637 - val_accuracy: 0.9330\n",
      "Epoch 71/120\n",
      "40/40 [==============================] - 5s 124ms/step - loss: 0.0436 - accuracy: 0.9839 - val_loss: 0.4489 - val_accuracy: 0.9170\n",
      "Epoch 72/120\n",
      "40/40 [==============================] - 5s 123ms/step - loss: 0.0426 - accuracy: 0.9848 - val_loss: 0.2928 - val_accuracy: 0.9300\n",
      "Epoch 73/120\n",
      "40/40 [==============================] - 5s 125ms/step - loss: 0.0411 - accuracy: 0.9863 - val_loss: 0.3119 - val_accuracy: 0.9390\n",
      "Epoch 74/120\n",
      "40/40 [==============================] - 5s 124ms/step - loss: 0.0428 - accuracy: 0.9844 - val_loss: 0.3180 - val_accuracy: 0.9270\n",
      "Epoch 75/120\n",
      "40/40 [==============================] - 5s 125ms/step - loss: 0.0394 - accuracy: 0.9867 - val_loss: 0.2715 - val_accuracy: 0.9380\n",
      "Epoch 76/120\n",
      "40/40 [==============================] - 5s 124ms/step - loss: 0.0379 - accuracy: 0.9861 - val_loss: 0.2633 - val_accuracy: 0.9350\n",
      "Epoch 77/120\n",
      "40/40 [==============================] - 5s 125ms/step - loss: 0.0434 - accuracy: 0.9844 - val_loss: 0.2601 - val_accuracy: 0.9310\n",
      "Epoch 78/120\n",
      "40/40 [==============================] - 5s 125ms/step - loss: 0.0348 - accuracy: 0.9880 - val_loss: 0.2987 - val_accuracy: 0.9340\n",
      "Epoch 79/120\n",
      "40/40 [==============================] - 5s 125ms/step - loss: 0.0490 - accuracy: 0.9842 - val_loss: 0.3059 - val_accuracy: 0.9280\n",
      "Epoch 80/120\n",
      "40/40 [==============================] - 5s 125ms/step - loss: 0.0373 - accuracy: 0.9867 - val_loss: 0.2868 - val_accuracy: 0.9330\n",
      "Epoch 81/120\n",
      "40/40 [==============================] - 5s 126ms/step - loss: 0.0372 - accuracy: 0.9858 - val_loss: 0.2482 - val_accuracy: 0.9370\n",
      "Epoch 82/120\n",
      "40/40 [==============================] - 5s 126ms/step - loss: 0.0288 - accuracy: 0.9911 - val_loss: 0.3508 - val_accuracy: 0.9280\n",
      "Epoch 83/120\n",
      "40/40 [==============================] - 5s 125ms/step - loss: 0.0305 - accuracy: 0.9892 - val_loss: 0.3378 - val_accuracy: 0.9420\n",
      "Epoch 84/120\n",
      "40/40 [==============================] - 5s 125ms/step - loss: 0.0294 - accuracy: 0.9899 - val_loss: 0.3582 - val_accuracy: 0.9380\n",
      "Epoch 85/120\n",
      "40/40 [==============================] - 5s 125ms/step - loss: 0.0355 - accuracy: 0.9873 - val_loss: 0.2864 - val_accuracy: 0.9400\n",
      "Epoch 86/120\n",
      "40/40 [==============================] - 5s 125ms/step - loss: 0.0320 - accuracy: 0.9887 - val_loss: 0.3264 - val_accuracy: 0.9380\n",
      "Epoch 87/120\n",
      "40/40 [==============================] - 5s 124ms/step - loss: 0.0339 - accuracy: 0.9891 - val_loss: 0.2410 - val_accuracy: 0.9450\n",
      "Epoch 88/120\n",
      "40/40 [==============================] - 5s 124ms/step - loss: 0.0314 - accuracy: 0.9905 - val_loss: 0.3345 - val_accuracy: 0.9370\n",
      "Epoch 89/120\n",
      "40/40 [==============================] - 5s 125ms/step - loss: 0.0359 - accuracy: 0.9883 - val_loss: 0.2995 - val_accuracy: 0.9390\n",
      "Epoch 90/120\n",
      "40/40 [==============================] - 5s 125ms/step - loss: 0.0299 - accuracy: 0.9891 - val_loss: 0.3222 - val_accuracy: 0.9340\n",
      "Epoch 91/120\n",
      "40/40 [==============================] - 5s 125ms/step - loss: 0.0373 - accuracy: 0.9887 - val_loss: 0.3302 - val_accuracy: 0.9360\n",
      "Epoch 92/120\n",
      "40/40 [==============================] - 5s 125ms/step - loss: 0.0352 - accuracy: 0.9881 - val_loss: 0.2994 - val_accuracy: 0.9250\n",
      "Epoch 93/120\n",
      "40/40 [==============================] - 5s 124ms/step - loss: 0.0304 - accuracy: 0.9898 - val_loss: 0.2481 - val_accuracy: 0.9420\n",
      "Epoch 94/120\n",
      "40/40 [==============================] - 5s 125ms/step - loss: 0.0317 - accuracy: 0.9896 - val_loss: 0.2722 - val_accuracy: 0.9410\n",
      "Epoch 95/120\n",
      "40/40 [==============================] - 5s 124ms/step - loss: 0.0295 - accuracy: 0.9903 - val_loss: 0.3636 - val_accuracy: 0.9380\n",
      "Epoch 96/120\n",
      "40/40 [==============================] - 5s 126ms/step - loss: 0.0268 - accuracy: 0.9907 - val_loss: 0.2705 - val_accuracy: 0.9520\n",
      "Epoch 97/120\n",
      "40/40 [==============================] - 5s 125ms/step - loss: 0.0247 - accuracy: 0.9918 - val_loss: 0.2612 - val_accuracy: 0.9460\n",
      "Epoch 98/120\n",
      "40/40 [==============================] - 5s 125ms/step - loss: 0.0242 - accuracy: 0.9917 - val_loss: 0.3277 - val_accuracy: 0.9410\n",
      "Epoch 99/120\n",
      "40/40 [==============================] - 5s 125ms/step - loss: 0.0346 - accuracy: 0.9887 - val_loss: 0.2746 - val_accuracy: 0.9420\n",
      "Epoch 100/120\n",
      "40/40 [==============================] - 5s 126ms/step - loss: 0.0272 - accuracy: 0.9910 - val_loss: 0.2775 - val_accuracy: 0.9510\n",
      "Epoch 101/120\n",
      "40/40 [==============================] - 5s 125ms/step - loss: 0.0288 - accuracy: 0.9914 - val_loss: 0.2896 - val_accuracy: 0.9470\n",
      "Epoch 102/120\n",
      "40/40 [==============================] - 5s 126ms/step - loss: 0.0271 - accuracy: 0.9902 - val_loss: 0.2697 - val_accuracy: 0.9470\n",
      "Epoch 103/120\n",
      "40/40 [==============================] - 5s 125ms/step - loss: 0.0221 - accuracy: 0.9917 - val_loss: 0.3094 - val_accuracy: 0.9410\n",
      "Epoch 104/120\n",
      "40/40 [==============================] - 5s 125ms/step - loss: 0.0304 - accuracy: 0.9906 - val_loss: 0.2791 - val_accuracy: 0.9470\n",
      "Epoch 105/120\n",
      "40/40 [==============================] - 5s 125ms/step - loss: 0.0271 - accuracy: 0.9912 - val_loss: 0.2443 - val_accuracy: 0.9490\n",
      "Epoch 106/120\n",
      "40/40 [==============================] - 5s 125ms/step - loss: 0.0253 - accuracy: 0.9930 - val_loss: 0.2593 - val_accuracy: 0.9490\n",
      "Epoch 107/120\n",
      "40/40 [==============================] - 5s 125ms/step - loss: 0.0303 - accuracy: 0.9905 - val_loss: 0.2604 - val_accuracy: 0.9470\n",
      "Epoch 108/120\n",
      "40/40 [==============================] - 5s 126ms/step - loss: 0.0247 - accuracy: 0.9919 - val_loss: 0.2375 - val_accuracy: 0.9510\n",
      "Epoch 109/120\n",
      "40/40 [==============================] - 5s 126ms/step - loss: 0.0217 - accuracy: 0.9928 - val_loss: 0.3389 - val_accuracy: 0.9490\n",
      "Epoch 110/120\n",
      "40/40 [==============================] - 5s 126ms/step - loss: 0.0293 - accuracy: 0.9917 - val_loss: 0.2452 - val_accuracy: 0.9510\n",
      "Epoch 111/120\n",
      "40/40 [==============================] - 5s 125ms/step - loss: 0.0294 - accuracy: 0.9913 - val_loss: 0.2552 - val_accuracy: 0.9540\n",
      "Epoch 112/120\n",
      "40/40 [==============================] - 5s 125ms/step - loss: 0.0246 - accuracy: 0.9923 - val_loss: 0.2544 - val_accuracy: 0.9470\n",
      "Epoch 113/120\n",
      "40/40 [==============================] - 5s 126ms/step - loss: 0.0283 - accuracy: 0.9910 - val_loss: 0.2946 - val_accuracy: 0.9440\n",
      "Epoch 114/120\n",
      "40/40 [==============================] - 5s 125ms/step - loss: 0.0232 - accuracy: 0.9921 - val_loss: 0.3411 - val_accuracy: 0.9410\n",
      "Epoch 115/120\n",
      "40/40 [==============================] - 5s 125ms/step - loss: 0.0224 - accuracy: 0.9925 - val_loss: 0.3101 - val_accuracy: 0.9470\n",
      "Epoch 116/120\n",
      "40/40 [==============================] - 5s 125ms/step - loss: 0.0217 - accuracy: 0.9932 - val_loss: 0.2510 - val_accuracy: 0.9500\n",
      "Epoch 117/120\n",
      "40/40 [==============================] - 5s 126ms/step - loss: 0.0203 - accuracy: 0.9927 - val_loss: 0.2665 - val_accuracy: 0.9430\n",
      "Epoch 118/120\n",
      "40/40 [==============================] - 5s 127ms/step - loss: 0.0280 - accuracy: 0.9920 - val_loss: 0.2522 - val_accuracy: 0.9520\n",
      "Epoch 119/120\n",
      "40/40 [==============================] - 5s 127ms/step - loss: 0.0273 - accuracy: 0.9910 - val_loss: 0.2877 - val_accuracy: 0.9490\n",
      "Epoch 120/120\n",
      "40/40 [==============================] - 5s 126ms/step - loss: 0.0170 - accuracy: 0.9937 - val_loss: 0.3429 - val_accuracy: 0.9450\n"
     ]
    }
   ],
   "source": [
    "# train\n",
    "history = model.fit([inputs_train, queries_train], answers_train,batch_size=256,epochs=120,validation_data=([inputs_test, queries_test], answers_test))  # , callbacks=[reduce_lr]"
   ]
  },
  {
   "cell_type": "markdown",
   "metadata": {
    "id": "U78FawZb0ec6"
   },
   "source": [
    "### Saving the Model"
   ]
  },
  {
   "cell_type": "code",
   "execution_count": 61,
   "metadata": {
    "colab": {
     "base_uri": "https://localhost:8080/"
    },
    "id": "vmykQL4n0ec7",
    "outputId": "386d9ea1-1a1a-4d7c-f8aa-ff64c714ff63"
   },
   "outputs": [
    {
     "name": "stderr",
     "output_type": "stream",
     "text": [
      "/usr/local/lib/python3.7/dist-packages/keras/engine/functional.py:1410: CustomMaskWarning: Custom mask layers require a config and must override get_config. When loading, the custom mask layer must be passed to the custom_objects argument.\n",
      "  layer_config = serialize_layer_fn(layer)\n"
     ]
    }
   ],
   "source": [
    "filename = 'chatbot_120_epochs_9710_susank.h5'\n",
    "model.save(filename)"
   ]
  },
  {
   "cell_type": "markdown",
   "metadata": {
    "id": "r-P0rQ640ec7"
   },
   "source": [
    "## Evaluating the Model\n",
    "\n",
    "### Plotting Out Training History"
   ]
  },
  {
   "cell_type": "code",
   "execution_count": 62,
   "metadata": {
    "colab": {
     "base_uri": "https://localhost:8080/",
     "height": 313
    },
    "id": "PsTiuTUn0ec7",
    "outputId": "6622fedb-efef-4f8a-cb5a-7e93c7c124ac"
   },
   "outputs": [
    {
     "name": "stdout",
     "output_type": "stream",
     "text": [
      "dict_keys(['loss', 'accuracy', 'val_loss', 'val_accuracy'])\n"
     ]
    },
    {
     "data": {
      "image/png": "[encoded data removed]",
      "text/plain": [
       "<Figure size 432x288 with 1 Axes>"
      ]
     },
     "metadata": {
      "needs_background": "light"
     },
     "output_type": "display_data"
    }
   ],
   "source": [
    "import matplotlib.pyplot as plt\n",
    "%matplotlib inline\n",
    "print(history.history.keys())\n",
    "# summarize history for accuracy\n",
    "plt.plot(history.history['accuracy'])\n",
    "plt.plot(history.history['val_accuracy'])\n",
    "plt.title('model accuracy')\n",
    "plt.ylabel('accuracy')\n",
    "plt.xlabel('epoch')\n",
    "plt.legend(['train', 'test'], loc='upper left')\n",
    "plt.savefig('accuracy.png', dpi=180, facecolor='white')\n",
    "plt.show()"
   ]
  },
  {
   "cell_type": "markdown",
   "metadata": {
    "id": "KkmsRJuQ0ec8"
   },
   "source": [
    "### Evaluating on Given Test Set"
   ]
  },
  {
   "cell_type": "code",
   "execution_count": 63,
   "metadata": {
    "id": "9_fvz3hk0ec8"
   },
   "outputs": [],
   "source": [
    "#model.load_weights(filename)\n",
    "pred_results = model.predict(([inputs_test, queries_test]))"
   ]
  },
  {
   "cell_type": "code",
   "execution_count": 64,
   "metadata": {
    "colab": {
     "base_uri": "https://localhost:8080/"
    },
    "id": "7JVqWgzD0ec9",
    "outputId": "f3517101-5183-47a1-d3b4-80671263169e"
   },
   "outputs": [
    {
     "data": {
      "text/plain": [
       "['Mary',\n",
       " 'got',\n",
       " 'the',\n",
       " 'milk',\n",
       " 'there',\n",
       " '.',\n",
       " 'John',\n",
       " 'moved',\n",
       " 'to',\n",
       " 'the',\n",
       " 'bedroom',\n",
       " '.']"
      ]
     },
     "execution_count": 64,
     "metadata": {},
     "output_type": "execute_result"
    }
   ],
   "source": [
    "test_data[0][0]"
   ]
  },
  {
   "cell_type": "code",
   "execution_count": 65,
   "metadata": {
    "colab": {
     "base_uri": "https://localhost:8080/"
    },
    "id": "ghdFha0h0ec9",
    "outputId": "ca77bb2d-b49d-485f-9a62-906aa27d2850"
   },
   "outputs": [
    {
     "name": "stdout",
     "output_type": "stream",
     "text": [
      "Mary got the milk there . John moved to the bedroom .\n"
     ]
    }
   ],
   "source": [
    "story =' '.join(word for word in test_data[0][0])\n",
    "print(story)"
   ]
  },
  {
   "cell_type": "code",
   "execution_count": 66,
   "metadata": {
    "colab": {
     "base_uri": "https://localhost:8080/"
    },
    "id": "TWW6S8vH0ec-",
    "outputId": "4212ae62-9f27-486d-cef8-fc34cc3fb990"
   },
   "outputs": [
    {
     "name": "stdout",
     "output_type": "stream",
     "text": [
      "Is John in the kitchen ?\n"
     ]
    }
   ],
   "source": [
    "query = ' '.join(word for word in test_data[0][1])\n",
    "print(query)"
   ]
  },
  {
   "cell_type": "code",
   "execution_count": 67,
   "metadata": {
    "colab": {
     "base_uri": "https://localhost:8080/"
    },
    "id": "CxyY9aYS0ec-",
    "outputId": "b1e63449-4a2e-4b99-9f44-9d95df30c070"
   },
   "outputs": [
    {
     "name": "stdout",
     "output_type": "stream",
     "text": [
      "True Test Answer from Data is: no\n"
     ]
    }
   ],
   "source": [
    "print(\"True Test Answer from Data is:\",test_data[0][2])"
   ]
  },
  {
   "cell_type": "code",
   "execution_count": 68,
   "metadata": {
    "colab": {
     "base_uri": "https://localhost:8080/"
    },
    "id": "KXbc76N-0ec_",
    "outputId": "cf069dfc-dbe0-4153-c242-e3a13625d4d2"
   },
   "outputs": [
    {
     "name": "stdout",
     "output_type": "stream",
     "text": [
      "Predicted answer is:  no\n",
      "Probability of certainty was:  0.9999995\n"
     ]
    }
   ],
   "source": [
    "#Generate prediction from model\n",
    "val_max = np.argmax(pred_results[0])\n",
    "\n",
    "for key, val in tokenizer.word_index.items():\n",
    "    if val == val_max:\n",
    "        k = key\n",
    "\n",
    "print(\"Predicted answer is: \", k)\n",
    "print(\"Probability of certainty was: \", pred_results[0][val_max])"
   ]
  },
  {
   "cell_type": "markdown",
   "metadata": {
    "id": "drZyjE1e0ec_"
   },
   "source": [
    "## Writing Your Own Stories and Questions\n",
    "\n",
    "Remember you can only use words from the existing vocab"
   ]
  },
  {
   "cell_type": "code",
   "execution_count": 69,
   "metadata": {
    "colab": {
     "base_uri": "https://localhost:8080/"
    },
    "id": "oSo3iB7k0edA",
    "outputId": "1cbe9c78-3bd9-4331-d5a8-0755bcf38a8d"
   },
   "outputs": [
    {
     "data": {
      "text/plain": [
       "{'.',\n",
       " '?',\n",
       " 'Daniel',\n",
       " 'Is',\n",
       " 'John',\n",
       " 'Mary',\n",
       " 'Sandra',\n",
       " 'apple',\n",
       " 'back',\n",
       " 'bathroom',\n",
       " 'bedroom',\n",
       " 'discarded',\n",
       " 'down',\n",
       " 'dropped',\n",
       " 'football',\n",
       " 'garden',\n",
       " 'got',\n",
       " 'grabbed',\n",
       " 'hallway',\n",
       " 'in',\n",
       " 'journeyed',\n",
       " 'kitchen',\n",
       " 'left',\n",
       " 'milk',\n",
       " 'moved',\n",
       " 'no',\n",
       " 'office',\n",
       " 'picked',\n",
       " 'put',\n",
       " 'the',\n",
       " 'there',\n",
       " 'to',\n",
       " 'took',\n",
       " 'travelled',\n",
       " 'up',\n",
       " 'went',\n",
       " 'yes'}"
      ]
     },
     "execution_count": 69,
     "metadata": {},
     "output_type": "execute_result"
    }
   ],
   "source": [
    "vocab"
   ]
  },
  {
   "cell_type": "code",
   "execution_count": 70,
   "metadata": {
    "colab": {
     "base_uri": "https://localhost:8080/"
    },
    "id": "MyI3o-cd0edA",
    "outputId": "c3e99589-2242-4ae7-e881-2b0b14067851"
   },
   "outputs": [
    {
     "data": {
      "text/plain": [
       "['John',\n",
       " 'left',\n",
       " 'the',\n",
       " 'kitchen',\n",
       " '.',\n",
       " 'Sandra',\n",
       " 'dropped',\n",
       " 'the',\n",
       " 'football',\n",
       " 'in',\n",
       " 'the',\n",
       " 'garden',\n",
       " '.']"
      ]
     },
     "execution_count": 70,
     "metadata": {},
     "output_type": "execute_result"
    }
   ],
   "source": [
    "# Note the whitespace of the periods\n",
    "my_story = \"John left the kitchen . Sandra dropped the football in the garden .\"\n",
    "my_story.split()"
   ]
  },
  {
   "cell_type": "code",
   "execution_count": 71,
   "metadata": {
    "id": "sPavwc1a0edB"
   },
   "outputs": [],
   "source": [
    "my_question = \"Is the football in the garden ?\""
   ]
  },
  {
   "cell_type": "code",
   "execution_count": 72,
   "metadata": {
    "colab": {
     "base_uri": "https://localhost:8080/"
    },
    "id": "RT75aB7R0edB",
    "outputId": "f00d35e9-426f-4111-d7ca-c993e5887f58"
   },
   "outputs": [
    {
     "data": {
      "text/plain": [
       "['Is', 'the', 'football', 'in', 'the', 'garden', '?']"
      ]
     },
     "execution_count": 72,
     "metadata": {},
     "output_type": "execute_result"
    }
   ],
   "source": [
    "my_question.split()"
   ]
  },
  {
   "cell_type": "code",
   "execution_count": 73,
   "metadata": {
    "id": "B5w3WXcw0edB"
   },
   "outputs": [],
   "source": [
    "mydata = [(my_story.split(),my_question.split(),'yes')]"
   ]
  },
  {
   "cell_type": "code",
   "execution_count": 74,
   "metadata": {
    "id": "6gemrd7U0edB"
   },
   "outputs": [],
   "source": [
    "my_story,my_ques,my_ans = vectorize_stories(mydata)"
   ]
  },
  {
   "cell_type": "code",
   "execution_count": 75,
   "metadata": {
    "id": "9dORqnm90edC"
   },
   "outputs": [],
   "source": [
    "pred_results = model.predict(([ my_story, my_ques]))"
   ]
  },
  {
   "cell_type": "code",
   "execution_count": 76,
   "metadata": {
    "colab": {
     "base_uri": "https://localhost:8080/"
    },
    "id": "FHS6axza0edC",
    "outputId": "84330d28-2aa5-4d79-df45-cfbedb426663"
   },
   "outputs": [
    {
     "name": "stdout",
     "output_type": "stream",
     "text": [
      "Predicted answer is:  yes\n",
      "Probability of certainty was:  0.9999734\n"
     ]
    }
   ],
   "source": [
    "#Generate prediction from model\n",
    "val_max = np.argmax(pred_results[0])\n",
    "\n",
    "for key, val in tokenizer.word_index.items():\n",
    "    if val == val_max:\n",
    "        k = key\n",
    "\n",
    "print(\"Predicted answer is: \", k)\n",
    "print(\"Probability of certainty was: \", pred_results[0][val_max])"
   ]
  },
  {
   "cell_type": "markdown",
   "metadata": {
    "id": "g4G23qlZ0edC"
   },
   "source": [
    "#### test"
   ]
  },
  {
   "cell_type": "code",
   "execution_count": 77,
   "metadata": {
    "id": "ZpCrSt5C0edD"
   },
   "outputs": [],
   "source": [
    "my_story = \"Sandra grabbed Mary in the kitchen . Sandra picked the apple in the garden . John got back in the office . Mary got the milk . Daniel discarded the apple .\"\n",
    "my_question = \"Is apple in the garden ?\"\n",
    "mydata = [(my_story.split(),my_question.split(),'yes')]\n",
    "my_story,my_ques,my_ans = vectorize_stories(mydata)"
   ]
  },
  {
   "cell_type": "code",
   "execution_count": 78,
   "metadata": {
    "id": "CvYfjDwI0edD"
   },
   "outputs": [],
   "source": [
    "pred_results = model.predict(([ my_story, my_ques]))"
   ]
  },
  {
   "cell_type": "code",
   "execution_count": 79,
   "metadata": {
    "colab": {
     "base_uri": "https://localhost:8080/"
    },
    "id": "Y_d31wDu0edD",
    "outputId": "03eb7b10-11e7-4599-a52a-ff24ab89e741"
   },
   "outputs": [
    {
     "name": "stdout",
     "output_type": "stream",
     "text": [
      "Predicted answer is:  no\n",
      "Probability of certainty was:  0.990622\n"
     ]
    }
   ],
   "source": [
    "#Generate prediction from model\n",
    "val_max = np.argmax(pred_results[0])\n",
    "\n",
    "for key, val in tokenizer.word_index.items():\n",
    "    if val == val_max:\n",
    "        k = key\n",
    "\n",
    "print(\"Predicted answer is: \", k)\n",
    "print(\"Probability of certainty was: \", pred_results[0][val_max])"
   ]
  },
  {
   "cell_type": "code",
   "execution_count": 80,
   "metadata": {
    "id": "R7YuM2Jw0edE"
   },
   "outputs": [],
   "source": [
    "my_story = 'Daniel grabbed the apple there . Daniel went to the bedroom . John moved to the garden . Sandra journeyed to the office . Daniel put down the apple . Mary went to the bedroom . Mary grabbed the apple there . Sandra went back to the garden . Mary went to the kitchen . Daniel went to the office .'\n",
    "my_question = \"Is Mary in the kitchen ?\"\n",
    "mydata = [(my_story.split(),my_question.split(),'yes')]\n",
    "my_story,my_ques,my_ans = vectorize_stories(mydata)"
   ]
  },
  {
   "cell_type": "code",
   "execution_count": 81,
   "metadata": {
    "id": "HgdtBuB30edE"
   },
   "outputs": [],
   "source": [
    "pred_results = model.predict(([ my_story, my_ques]))"
   ]
  },
  {
   "cell_type": "code",
   "execution_count": 82,
   "metadata": {
    "colab": {
     "base_uri": "https://localhost:8080/"
    },
    "id": "Azj-Kmzj0edE",
    "outputId": "bdfa38e2-eb53-4635-8405-6fa05a8aa673"
   },
   "outputs": [
    {
     "name": "stdout",
     "output_type": "stream",
     "text": [
      "Predicted answer is:  yes\n",
      "Probability of certainty was:  0.9999995\n"
     ]
    }
   ],
   "source": [
    "#Generate prediction from model\n",
    "val_max = np.argmax(pred_results[0])\n",
    "\n",
    "for key, val in tokenizer.word_index.items():\n",
    "    if val == val_max:\n",
    "        k = key\n",
    "\n",
    "print(\"Predicted answer is: \", k)\n",
    "print(\"Probability of certainty was: \", pred_results[0][val_max])"
   ]
  },
  {
   "cell_type": "code",
   "execution_count": 83,
   "metadata": {
    "id": "J6ZpJsmm0edF"
   },
   "outputs": [],
   "source": [
    "my_story = 'Daniel grabbed the apple there . Daniel went to the bedroom . John moved to the garden . Sandra journeyed to the office . Daniel put down the apple . Mary went to the bedroom . Mary grabbed the apple there . Sandra went back to the garden . Mary went to the kitchen . Daniel went to the office .'\n",
    "my_question = \"Is Mary in the bedroom ?\"\n",
    "mydata = [(my_story.split(),my_question.split(),'no')]\n",
    "my_story,my_ques,my_ans = vectorize_stories(mydata)"
   ]
  },
  {
   "cell_type": "code",
   "execution_count": 84,
   "metadata": {
    "id": "fpC-z1E90edF"
   },
   "outputs": [],
   "source": [
    "pred_results = model.predict(([ my_story, my_ques]))"
   ]
  },
  {
   "cell_type": "code",
   "execution_count": 85,
   "metadata": {
    "colab": {
     "base_uri": "https://localhost:8080/"
    },
    "id": "qH35c8bb0edF",
    "outputId": "0f663549-9ce0-462c-dea4-75e0e29567c8"
   },
   "outputs": [
    {
     "name": "stdout",
     "output_type": "stream",
     "text": [
      "Predicted answer is:  no\n",
      "Probability of certainty was:  0.9999938\n"
     ]
    }
   ],
   "source": [
    "#Generate prediction from model\n",
    "val_max = np.argmax(pred_results[0])\n",
    "\n",
    "for key, val in tokenizer.word_index.items():\n",
    "    if val == val_max:\n",
    "        k = key\n",
    "\n",
    "print(\"Predicted answer is: \", k)\n",
    "print(\"Probability of certainty was: \", pred_results[0][val_max])"
   ]
  },
  {
   "cell_type": "code",
   "execution_count": 85,
   "metadata": {
    "id": "ji6z69sI0edG"
   },
   "outputs": [],
   "source": []
  }
 ],
 "metadata": {
  "colab": {
   "name": "Lab_13_19BCI7044.ipynb",
   "provenance": []
  },
  "kernelspec": {
   "display_name": "Python 3 (ipykernel)",
   "language": "python",
   "name": "python3"
  },
  "language_info": {
   "codemirror_mode": {
    "name": "ipython",
    "version": 3
   },
   "file_extension": ".py",
   "mimetype": "text/x-python",
   "name": "python",
   "nbconvert_exporter": "python",
   "pygments_lexer": "ipython3",
   "version": "3.9.0"
  }
 },
 "nbformat": 4,
 "nbformat_minor": 1
}
